{
  "nbformat": 4,
  "nbformat_minor": 0,
  "metadata": {
    "colab": {
      "name": "blockchain_lab.ipynb",
      "provenance": []
    },
    "kernelspec": {
      "name": "python3",
      "display_name": "Python 3"
    },
    "language_info": {
      "name": "python"
    }
  },
  "cells": [
    {
      "cell_type": "code",
      "execution_count": null,
      "metadata": {
        "id": "bB2Zb2bAxXls"
      },
      "outputs": [],
      "source": [
        "#@title Installation { vertical-output: true, display-mode: \"form\" }\n",
        "!pip3 install blockchain-lab\n",
        "\n",
        "from blockchain_lab import blockchain_lab\n",
        "\n",
        "lab = blockchain_lab()"
      ]
    },
    {
      "cell_type": "code",
      "source": [
        "#@title Create Blockchain Lab { vertical-output: true, display-mode: \"form\" }\n",
        "node_number = 3 #@param {type:\"slider\", min:3, max:6, step:3}\n",
        "security_circle_number = 1 #@param {type:\"slider\", min:1, max:2, step:1}\n",
        "\n",
        "lab.node_number = node_number\n",
        "lab.security_circle_number = security_circle_number\n",
        "\n",
        "lab.create_local()"
      ],
      "metadata": {
        "id": "2OPRdCnO5frX"
      },
      "execution_count": null,
      "outputs": []
    },
    {
      "cell_type": "code",
      "source": [
        "#@title Check Lab Status { vertical-output: true, display-mode: \"form\" }\n",
        "lab.status()"
      ],
      "metadata": {
        "id": "iQ_tLfKj6JK6"
      },
      "execution_count": null,
      "outputs": []
    },
    {
      "cell_type": "code",
      "source": [
        "#@title Send A Transaction { vertical-output: true }\n",
        "receiver = \"Decentra-Network\" #@param {type:\"string\"}\n",
        "amount = 5000 #@param {type:\"number\"}\n",
        "data = \"Hello universe i am from Decentra Network Blockchain\" #@param {type:\"string\"}\n",
        "lab.send_transaction(receiver = receiver, amount = amount, data = data)"
      ],
      "metadata": {
        "id": "QF2DMFDY62tD",
        "cellView": "form"
      },
      "execution_count": null,
      "outputs": []
    },
    {
      "cell_type": "code",
      "source": [
        "#@title Delete Lab { vertical-output: true, display-mode: \"form\" }\n",
        "lab.delete_local()"
      ],
      "metadata": {
        "id": "RpMPYRm769Kq"
      },
      "execution_count": null,
      "outputs": []
    }
  ]
}